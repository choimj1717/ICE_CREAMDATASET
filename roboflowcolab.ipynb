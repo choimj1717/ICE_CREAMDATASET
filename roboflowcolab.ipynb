!pip install opencv-python inference-sdk

from inference_sdk import InferenceHTTPClient
import cv2
from google.colab.patches import cv2_imshow  # Colab 전용 이미지 출력 함수
import json

# 이미지 경로
image_path = "/content/asd.jpg"

CLIENT = InferenceHTTPClient(
    api_url="https://serverless.roboflow.com",
    api_key="pQfkeqEjLfJC1kHZx4We"
)

result = CLIENT.infer(image_path, model_id="my-first-project-borox/1")

# 이미지 로드
image = cv2.imread(image_path)

for prediction in result["predictions"]:
    x = int(prediction["x"])
    y = int(prediction["y"])
    w = int(prediction["width"])
    h = int(prediction["height"])
    class_name = prediction["class"]
    confidence = prediction["confidence"]

    start_point = (x - w // 2, y - h // 2)
    end_point = (x + w // 2, y + h // 2)

    cv2.rectangle(image, start_point, end_point, color=(0, 255, 0), thickness=2)
    cv2.putText(image, f"{class_name} ({confidence:.2f})", (start_point[0], start_point[1] - 10),
                cv2.FONT_HERSHEY_SIMPLEX, 0.5, (0, 255, 0), 1)

# 이미지 출력 (Colab 전용)
cv2_imshow(image)
